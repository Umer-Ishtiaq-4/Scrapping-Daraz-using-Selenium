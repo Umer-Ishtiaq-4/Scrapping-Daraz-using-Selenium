{
 "cells": [
  {
   "cell_type": "markdown",
   "source": [
    "## Daraz Web Scraping"
   ],
   "metadata": {}
  },
  {
   "cell_type": "code",
   "execution_count": 5,
   "source": [
    "import pandas as pd\r\n",
    "import time\r\n",
    "from selenium import webdriver\r\n",
    "from bs4 import BeautifulSoup\r\n",
    "in_key = 'Mobile Covers'"
   ],
   "outputs": [],
   "metadata": {}
  },
  {
   "cell_type": "code",
   "execution_count": 7,
   "source": [
    "driver = webdriver.Chrome()\r\n",
    "driver.get(\"https://www.daraz.pk/catalog/?q=\"+in_key +\"&_keyori=ss&from=input&spm=a2a0e.searchlist.search.go.7bdf5d79UlZpuO\")\r\n",
    "time.sleep(7)\r\n",
    "# driver.close()\r\n",
    "html = driver.page_source\r\n",
    "\r\n",
    "parsed_html = BeautifulSoup(html, \"html.parser\")\r\n",
    "containers = parsed_html.find_all(\"div\", {\"class\": \"c1DXz4\"})\r\n",
    "total_products_str = containers[0].text\r\n",
    "first_word = int(total_products_str.split()[0])"
   ],
   "outputs": [],
   "metadata": {}
  },
  {
   "cell_type": "code",
   "execution_count": 8,
   "source": [
    "\r\n",
    "# PRODUCTS\r\n",
    "product = parsed_html.find_all(\"div\", \"c16H9d\")\r\n",
    "# print(product[0].text)\r\n",
    "product_list = []\r\n",
    "product_loop = [product1.text for product1 in product]\r\n",
    "for i in product_loop:\r\n",
    "    # print(i)\r\n",
    "    product_list.append(i)\r\n",
    "# product_list"
   ],
   "outputs": [],
   "metadata": {}
  },
  {
   "cell_type": "code",
   "execution_count": 9,
   "source": [
    "daraz = parsed_html.find_all(\"div\", \"c3KeDq\")\r\n",
    "daraz_loop = [daraz1 for daraz1 in daraz]\r\n",
    "integer = 0\r\n",
    "daraz_mall_list = []\r\n",
    "for i in daraz_loop:\r\n",
    "    if(daraz_loop[integer].find_all(\"i\", \"ic-dynamic-badge ic-dynamic-badge-lazMall ic-dynamic-group-1\")):\r\n",
    "        # print('yes')\r\n",
    "        daraz_mall_list.append('Yes')\r\n",
    "    else:\r\n",
    "        daraz_mall_list.append('No')\r\n",
    "    integer = integer + 1\r\n",
    "print('Available on Daraz Mall?')\r\n",
    "print(daraz_mall_list)"
   ],
   "outputs": [
    {
     "output_type": "stream",
     "name": "stdout",
     "text": [
      "Available on Daraz Mall?\n",
      "['Yes', 'Yes', 'No', 'No', 'No', 'No', 'No', 'No', 'No', 'No', 'No', 'No', 'No', 'No', 'No', 'No', 'No', 'No', 'No', 'No', 'No', 'No', 'No', 'No', 'No', 'No', 'No', 'No', 'No', 'No', 'No', 'No', 'No', 'No', 'No', 'No', 'No', 'No', 'No', 'No']\n"
     ]
    }
   ],
   "metadata": {}
  },
  {
   "cell_type": "code",
   "execution_count": 10,
   "source": [
    "\r\n",
    "# ORIGINALPROCES\r\n",
    "sellprice = parsed_html.find_all(\"span\", \"c13VH6\")\r\n",
    "prices = []\r\n",
    "average_prices = 0\r\n",
    "priceloop = [sell.text for sell in sellprice]\r\n",
    "for i in priceloop:\r\n",
    "    price1 = int(i.split()[1].replace(',', ''))\r\n",
    "    average_prices = average_prices + price1\r\n",
    "    prices.append(price1)\r\n",
    "print('Prices')\r\n",
    "print(prices)  # integer list of prices\r\n"
   ],
   "outputs": [
    {
     "output_type": "stream",
     "name": "stdout",
     "text": [
      "Prices\n",
      "[1239, 399, 540, 499, 144, 499, 415, 135, 139, 603, 303, 599, 235, 294, 93, 158, 134, 599, 164, 103, 399, 499, 165, 159, 599, 284, 499, 183, 385, 1150, 250, 223, 349, 650, 399, 371, 129, 383, 295, 329]\n"
     ]
    }
   ],
   "metadata": {}
  },
  {
   "cell_type": "code",
   "execution_count": 11,
   "source": [
    "\r\n",
    "# DISCOUNTED PRICES\r\n",
    "p1 = parsed_html.find_all(\"div\", \"c3KeDq\")\r\n",
    "discount = []\r\n",
    "price = []\r\n",
    "p1_loop = [product1 for product1 in p1]\r\n",
    "for i in p1_loop:\r\n",
    "    if(i.find_all('span', 'c1-B2V')):\r\n",
    "        di = i.find_all('span', 'c1-B2V')\r\n",
    "        price.append(di[0].text)\r\n",
    "        dd1 = i.find_all('span', 'c13VH6')\r\n",
    "        discount.append(dd1[0].text)\r\n",
    "    else:\r\n",
    "        dd = i.find_all('span', 'c13VH6')\r\n",
    "        price.append(dd[0].text)\r\n",
    "        discount.append('-')\r\n",
    "print(\"Discounted Prices\\n\", discount)\r\n",
    "# print(price)"
   ],
   "outputs": [
    {
     "output_type": "stream",
     "name": "stdout",
     "text": [
      "Discounted Prices\n",
      " ['Rs. 1,239', 'Rs. 399', 'Rs. 540', 'Rs. 499', 'Rs. 144', 'Rs. 499', 'Rs. 415', 'Rs. 135', 'Rs. 139', 'Rs. 603', 'Rs. 303', 'Rs. 599', 'Rs. 235', 'Rs. 294', 'Rs. 93', 'Rs. 158', 'Rs. 134', 'Rs. 599', 'Rs. 164', 'Rs. 103', 'Rs. 399', 'Rs. 499', 'Rs. 165', 'Rs. 159', 'Rs. 599', 'Rs. 284', 'Rs. 499', 'Rs. 183', 'Rs. 385', 'Rs. 1,150', '-', 'Rs. 223', 'Rs. 349', 'Rs. 650', 'Rs. 399', 'Rs. 371', 'Rs. 129', 'Rs. 383', 'Rs. 295', 'Rs. 329']\n"
     ]
    }
   ],
   "metadata": {}
  },
  {
   "cell_type": "code",
   "execution_count": 12,
   "source": [
    "\r\n",
    "# REVIEWS\r\n",
    "review = parsed_html.find_all(\"div\", \"c15YQ9\")\r\n",
    "reviews = []\r\n",
    "average_review = 0\r\n",
    "reviewloop = [rev for rev in review]\r\n",
    "integer = 0\r\n",
    "# print(len(reviewloop))\r\n",
    "integer = 0\r\n",
    "for i in reviewloop:\r\n",
    "    tag = i.find_all('span', 'c3XbGJ')\r\n",
    "    if(tag):\r\n",
    "        r = int(tag[0].text.replace('(', '').replace(')', ''))\r\n",
    "        reviews.append(r)\r\n",
    "        # print(r)\r\n",
    "    else:\r\n",
    "        reviews.append(0)\r\n",
    "    integer = integer + 1\r\n",
    "print(\"Reviews\")\r\n",
    "print(reviews)\r\n"
   ],
   "outputs": [
    {
     "output_type": "stream",
     "name": "stdout",
     "text": [
      "Reviews\n",
      "[87, 16, 46, 54, 108, 90, 384, 286, 112, 106, 181, 70, 145, 62, 153, 125, 67, 75, 94, 511, 55, 60, 36, 168, 72, 40, 30, 83, 82, 82, 27, 64, 31, 41, 92, 206, 39, 26, 24, 43]\n"
     ]
    }
   ],
   "metadata": {}
  },
  {
   "cell_type": "code",
   "execution_count": 13,
   "source": [
    "\r\n",
    "\r\n",
    "# RATINGS\r\n",
    "ratings = parsed_html.find_all(\"div\", \"c15YQ9\")\r\n",
    "rating_list = []\r\n",
    "ratingloop = [rev.text for rev in ratings]\r\n",
    "integer = 0\r\n",
    "#print(rating[integer].find_all('div','c2JB4x c6Ntq9'))\r\n",
    "# print(len(reviewloop))\r\n",
    "for i in reviewloop:\r\n",
    "    rating = 0\r\n",
    "    if(ratings[integer].find_all('div', 'c2JB4x c6Ntq9')):\r\n",
    "        r = ratings[integer].find_all('div', 'c2JB4x c6Ntq9')\r\n",
    "        for j in r:\r\n",
    "            for k in j:\r\n",
    "                string = str(k)\r\n",
    "                # print(string)\r\n",
    "                if(string.find('c3dn4k ') > 0):\r\n",
    "                    if(string.find('c3EEAg') > 0):\r\n",
    "                        rating = rating + 1.0\r\n",
    "                    elif(string.find('c3DcGB') > 0):\r\n",
    "                        rating = rating + 0.8\r\n",
    "                    elif(string.find('c1wCjy') > 0):\r\n",
    "                        rating = rating + 0.9\r\n",
    "                    elif(string.find('c17YMy') > 0):\r\n",
    "                        rating = rating + 0.95\r\n",
    "                    elif(string.find('c3fsPU') > 0):\r\n",
    "                        rating = rating + 0.4\r\n",
    "                    elif(string.find('c1e2gb') > 0):\r\n",
    "                        rating = rating + 0.5\r\n",
    "                    elif(string.find('c1dtTC') > 0):\r\n",
    "                        rating = rating + 0.0\r\n",
    "                    elif(string.find('c3An30') > 0):\r\n",
    "                        rating = rating + 0.6\r\n",
    "                    elif(string.find('c1Zozd') > 0):\r\n",
    "                        rating = rating + 0.1\r\n",
    "                    else:\r\n",
    "                        # default rating added\r\n",
    "                        rating = rating + 0.3\r\n",
    "                else:\r\n",
    "                    continue\r\n",
    "            rating_list.append(rating)\r\n",
    "            rating = 0\r\n",
    "\r\n",
    "        # print(rating_list)\r\n",
    "\r\n",
    "    else:\r\n",
    "        # print('No')\r\n",
    "        rating_list.append(0)\r\n",
    "    integer = integer + 1\r\n",
    "# print(len(rating_list))\r\n",
    "print('Ratings')\r\n",
    "print(rating_list)"
   ],
   "outputs": [
    {
     "output_type": "stream",
     "name": "stdout",
     "text": [
      "Ratings\n",
      "[4.8, 4.0, 5.0, 4.3, 4.3, 4.3, 4.9, 4.95, 4.9, 4.9, 4.3, 4.95, 4.95, 4.95, 4.9, 4.9, 4.95, 4.9, 4.95, 4.9, 4.3, 4.3, 4.95, 4.9, 4.8, 4.95, 4.3, 5.0, 4.3, 4.3, 4.8, 4.9, 4.3, 5.0, 4.6, 4.8, 5.0, 4.95, 4.95, 4.95]\n"
     ]
    }
   ],
   "metadata": {}
  },
  {
   "cell_type": "code",
   "execution_count": 14,
   "source": [
    "\r\n",
    "# COUNTRY\r\n",
    "country = parsed_html.find_all(\"span\", \"c2i43-\")\r\n",
    "# print(country[0])\r\n",
    "coutry_list = []\r\n",
    "country_loop = [country1.text for country1 in country]\r\n",
    "for i in country_loop:\r\n",
    "    coutry_list.append(i)\r\n",
    "print(coutry_list)\r\n"
   ],
   "outputs": [
    {
     "output_type": "stream",
     "name": "stdout",
     "text": [
      "['China', 'Pakistan', 'Pakistan', 'Pakistan', 'Pakistan', 'Pakistan', 'Pakistan', 'Pakistan', 'Pakistan', 'Pakistan', 'Pakistan', 'Pakistan', 'Pakistan', 'Pakistan', 'Pakistan', 'Pakistan', 'Pakistan', 'Pakistan', 'Pakistan', 'Pakistan', 'Pakistan', 'Pakistan', 'Pakistan', 'Pakistan', 'Pakistan', 'Pakistan', 'Pakistan', 'Pakistan', 'Pakistan', 'Pakistan', 'Pakistan', 'Pakistan', 'Pakistan', 'Pakistan', 'Pakistan', 'Pakistan', 'Pakistan', 'Pakistan', 'Pakistan', 'Pakistan']\n"
     ]
    }
   ],
   "metadata": {}
  },
  {
   "cell_type": "code",
   "execution_count": 15,
   "source": [
    "\r\n",
    "print(\"Total Seller: \", first_word)\r\n",
    "print(\"Avg price: \", round(average_prices/len(prices), 2))\r\n",
    "print(\"Avg Reivews: \", round(sum(reviews)/len(reviews), 2))\r\n",
    "print(\"Avg Ratings: \", round(sum(rating_list)/len(rating_list), 2))\r\n",
    "\r\n"
   ],
   "outputs": [
    {
     "output_type": "stream",
     "name": "stdout",
     "text": [
      "Total Seller:  1575712\n",
      "Avg price:  374.85\n",
      "Avg Reivews:  101.83\n",
      "Avg Ratings:  4.73\n"
     ]
    }
   ],
   "metadata": {}
  },
  {
   "cell_type": "code",
   "execution_count": 16,
   "source": [
    "\r\n",
    "print(\"Total Seller:\", 144419, \"\\n\", \"Avg Price:\", 1491.75,\r\n",
    "      \"\\n\", \"Avg Reviews:\", 11.78, \"\\n\", \"Avg Rating:\", 4.18)\r\n"
   ],
   "outputs": [
    {
     "output_type": "stream",
     "name": "stdout",
     "text": [
      "Total Seller: 144419 \n",
      " Avg Price: 1491.75 \n",
      " Avg Reviews: 11.78 \n",
      " Avg Rating: 4.18\n"
     ]
    }
   ],
   "metadata": {}
  },
  {
   "cell_type": "code",
   "execution_count": 20,
   "source": [
    "n = 5\r\n",
    "data = {\r\n",
    "    'Name': product_list,\r\n",
    "    'Daraz Mall': daraz_mall_list,\r\n",
    "    'Discounted Price': discount,\r\n",
    "    'Original Price': price,\r\n",
    "    'Reviews': reviews,\r\n",
    "    'Ratings': rating_list,\r\n",
    "    'Seller Country': coutry_list\r\n",
    "}\r\n",
    "df = pd.DataFrame(data, columns=['Name', 'Daraz Mall', 'Discounted Price',\r\n",
    "                  'Original Price', 'Reviews', 'Ratings', 'Seller Country'])\r\n",
    "df.head(n)"
   ],
   "outputs": [],
   "metadata": {}
  },
  {
   "cell_type": "code",
   "execution_count": 22,
   "source": [],
   "outputs": [
    {
     "output_type": "stream",
     "name": "stdout",
     "text": [
      "                                                Name Daraz Mall  \\\n",
      "0  Nillkin CamShield PC Casing For Xiaomi Redmi N...        Yes   \n",
      "1  360 Magnetic Adsorption Metal Case For All Sam...        Yes   \n",
      "2  Iphone 7/8 & 7 PLUS/ 8 PLUS  OFFICIAL Case ,ba...         No   \n",
      "3  Protector of Phone For Xiaomi Redmi Note 10 / ...         No   \n",
      "4  iPhone X Cover / iPhone XS Cover / iPhone XS M...         No   \n",
      "\n",
      "  Discounted Price Original Price  Reviews  Ratings Seller Country  \n",
      "0        Rs. 1,239      Rs. 1,640       87      4.8          China  \n",
      "1          Rs. 399        Rs. 899       16      4.0       Pakistan  \n",
      "2          Rs. 540      Rs. 1,000       46      5.0       Pakistan  \n",
      "3          Rs. 499        Rs. 800       54      4.3       Pakistan  \n",
      "4          Rs. 144        Rs. 350      108      4.3       Pakistan  \n"
     ]
    }
   ],
   "metadata": {}
  },
  {
   "cell_type": "code",
   "execution_count": null,
   "source": [],
   "outputs": [],
   "metadata": {}
  }
 ],
 "metadata": {
  "kernelspec": {
   "name": "python3",
   "display_name": "Python 3.8.5 64-bit ('base': conda)"
  },
  "language_info": {
   "codemirror_mode": {
    "name": "ipython",
    "version": 3
   },
   "file_extension": ".py",
   "mimetype": "text/x-python",
   "name": "python",
   "nbconvert_exporter": "python",
   "pygments_lexer": "ipython3",
   "version": "3.8.5"
  },
  "interpreter": {
   "hash": "19ae571eff4d59579d3875d0d5a29fb772d06707dc3058d64078b387f6961cd8"
  }
 },
 "nbformat": 4,
 "nbformat_minor": 4
}